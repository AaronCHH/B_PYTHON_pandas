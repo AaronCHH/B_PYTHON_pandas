{
 "cells": [
  {
   "cell_type": "markdown",
   "metadata": {},
   "source": [
    "# Ch11 Using Flask for the backend (Advanced)"
   ]
  },
  {
   "cell_type": "code",
   "execution_count": null,
   "metadata": {
    "collapsed": false
   },
   "outputs": [],
   "source": [
    "#app.py\n",
    "from flask import Flask, render_template\n",
    "import pandas as pd\n",
    "import numpy as np\n",
    "app = Flask(__name__)\n",
    "@app.route('/report')\n",
    "\n",
    "def report():\n",
    "    df = pd.DataFrame(np.random.randn(10,10))\n",
    "    return render_template('report.html', df=df.to_html())\n",
    "\n",
    "if __name__ == '__main__':\n",
    "app.run()"
   ]
  },
  {
   "cell_type": "code",
   "execution_count": null,
   "metadata": {
    "collapsed": true
   },
   "outputs": [],
   "source": [
    "#templates/report.html\n",
    "<!DOCTYPE html>\n",
    "    <html>\n",
    "        <body>\n",
    "        <h1>My Great Report</h1>\n",
    "        #This is the only fancy part… we're clearing the html\n",
    "        #from the to_html() method\n",
    "        {{ df|safe }}\n",
    "    </body>\n",
    "</html>"
   ]
  },
  {
   "cell_type": "code",
   "execution_count": null,
   "metadata": {
    "collapsed": true
   },
   "outputs": [],
   "source": [
    "<link rel=\"stylesheet\" type=\"text/css\" href={{\n",
    "url_for('static', filename='css/bootstrap.css') }}>"
   ]
  }
 ],
 "metadata": {
  "kernelspec": {
   "display_name": "Python 3",
   "language": "python",
   "name": "python3"
  },
  "language_info": {
   "codemirror_mode": {
    "name": "ipython",
    "version": 3
   },
   "file_extension": ".py",
   "mimetype": "text/x-python",
   "name": "python",
   "nbconvert_exporter": "python",
   "pygments_lexer": "ipython3",
   "version": "3.6.0"
  }
 },
 "nbformat": 4,
 "nbformat_minor": 2
}
