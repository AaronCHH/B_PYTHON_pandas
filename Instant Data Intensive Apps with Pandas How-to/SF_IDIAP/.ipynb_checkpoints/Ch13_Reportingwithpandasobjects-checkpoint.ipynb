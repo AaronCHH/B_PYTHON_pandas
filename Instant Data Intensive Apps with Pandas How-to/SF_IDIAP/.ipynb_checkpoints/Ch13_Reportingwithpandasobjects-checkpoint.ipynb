{
 "cells": [
  {
   "cell_type": "markdown",
   "metadata": {},
   "source": [
    "# Ch13 Reporting with pandas objects (Medium)"
   ]
  },
  {
   "cell_type": "code",
   "execution_count": null,
   "metadata": {
    "collapsed": true
   },
   "outputs": [],
   "source": [
    "from flask import Flask, render_template\n",
    "import pandas as pd\n",
    "app = Flask(__name__)\n",
    "@app.route('/report/<month>')\n",
    "def report(month):\n",
    "    from pandas.io.data import DataReader\n",
    "    ibm = DataReader('ibm', 'yahoo', '2010-01-01', '2010-12-31')\n",
    "    df = ibm[ibm.index.month == month]\n",
    "    return render_template('report.html',\n",
    "                           df=df.to_html(classes='table'))\n",
    "if __name__ == '__main__':\n",
    "    app.run()"
   ]
  },
  {
   "cell_type": "code",
   "execution_count": null,
   "metadata": {
    "collapsed": true
   },
   "outputs": [],
   "source": [
    "<!DOCTYPE html>\n",
    "    <html>\n",
    "        <head>\n",
    "            <link rel=\"stylesheet\" type=\"text/css\" href={{\n",
    "            url_for('static', filename='css/bootstrap.css') }}>\n",
    "            <link rel=\"stylesheet\" type=\"text/css\" href={{\n",
    "            url_for('static', filename='css/style.css') }}>\n",
    "        </head>\n",
    "        <body>\n",
    "            <h1>Month Performance of IBM</h1>\n",
    "            {{ df|safe }}\n",
    "        </body>\n",
    "    </html>"
   ]
  },
  {
   "cell_type": "code",
   "execution_count": null,
   "metadata": {
    "collapsed": true
   },
   "outputs": [],
   "source": [
    "body {\n",
    "    margin: auto;\n",
    "    width: 960px;\n",
    "    padding-top: 50px;\n",
    "}"
   ]
  }
 ],
 "metadata": {
  "kernelspec": {
   "display_name": "Python 3",
   "language": "python",
   "name": "python3"
  },
  "language_info": {
   "codemirror_mode": {
    "name": "ipython",
    "version": 3
   },
   "file_extension": ".py",
   "mimetype": "text/x-python",
   "name": "python",
   "nbconvert_exporter": "python",
   "pygments_lexer": "ipython3",
   "version": "3.6.0"
  }
 },
 "nbformat": 4,
 "nbformat_minor": 2
}
