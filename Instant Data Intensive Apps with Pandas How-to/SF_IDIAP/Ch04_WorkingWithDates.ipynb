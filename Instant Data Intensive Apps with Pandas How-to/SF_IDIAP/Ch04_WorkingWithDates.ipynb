{
 "cells": [
  {
   "cell_type": "markdown",
   "metadata": {},
   "source": [
    "# Ch04 - Working with dates (Medium)"
   ]
  },
  {
   "cell_type": "code",
   "execution_count": 2,
   "metadata": {
    "collapsed": true
   },
   "outputs": [],
   "source": [
    "import pandas as pd\n",
    "import numpy as np"
   ]
  },
  {
   "cell_type": "code",
   "execution_count": 3,
   "metadata": {
    "collapsed": false
   },
   "outputs": [
    {
     "data": {
      "text/plain": [
       "DatetimeIndex(['2000-01-01', '2000-01-02', '2000-01-03', '2000-01-04',\n",
       "               '2000-01-05', '2000-01-06', '2000-01-07', '2000-01-08',\n",
       "               '2000-01-09', '2000-01-10',\n",
       "               ...\n",
       "               '2000-12-22', '2000-12-23', '2000-12-24', '2000-12-25',\n",
       "               '2000-12-26', '2000-12-27', '2000-12-28', '2000-12-29',\n",
       "               '2000-12-30', '2000-12-31'],\n",
       "              dtype='datetime64[ns]', length=366, freq='D')"
      ]
     },
     "execution_count": 3,
     "metadata": {},
     "output_type": "execute_result"
    }
   ],
   "source": [
    "Y2K = pd.date_range('2000-01-01', '2000-12-31')\n",
    "Y2K"
   ]
  },
  {
   "cell_type": "code",
   "execution_count": 4,
   "metadata": {
    "collapsed": true
   },
   "outputs": [],
   "source": [
    "Y2K_hourly = pd.date_range('2000-01-01', '2000-12-31', freq='H')\n",
    "Y2K_temp = pd.Series(np.random.normal(75, 10, len(Y2K)), index=Y2K)"
   ]
  },
  {
   "cell_type": "code",
   "execution_count": 6,
   "metadata": {
    "collapsed": false
   },
   "outputs": [
    {
     "name": "stderr",
     "output_type": "stream",
     "text": [
      "C:\\Anaconda3\\lib\\site-packages\\ipykernel\\__main__.py:4: FutureWarning: fill_method is deprecated to .resample()\n",
      "the new syntax is .resample(...).pad()\n"
     ]
    },
    {
     "data": {
      "text/plain": [
       "2000-01-01    71.338515\n",
       "2000-01-02    72.811898\n",
       "2000-01-03    87.707299\n",
       "2000-01-04    84.367695\n",
       "2000-01-05    57.571880\n",
       "Freq: D, dtype: float64"
      ]
     },
     "execution_count": 6,
     "metadata": {},
     "output_type": "execute_result"
    }
   ],
   "source": [
    "Y2K_temp['2000-01-01':'2000-01-02']\n",
    "from datetime import date\n",
    "Y2K_temp[date(2000, 1, 1):date(2000, 1, 2)]\n",
    "Y2K_temp.resample('H', fill_method='pad')[:1]\n",
    "Y2K_temp.head()"
   ]
  },
  {
   "cell_type": "code",
   "execution_count": null,
   "metadata": {
    "collapsed": true
   },
   "outputs": [],
   "source": []
  }
 ],
 "metadata": {
  "kernelspec": {
   "display_name": "Python [default]",
   "language": "python",
   "name": "python3"
  },
  "language_info": {
   "codemirror_mode": {
    "name": "ipython",
    "version": 3
   },
   "file_extension": ".py",
   "mimetype": "text/x-python",
   "name": "python",
   "nbconvert_exporter": "python",
   "pygments_lexer": "ipython3",
   "version": "3.5.2"
  }
 },
 "nbformat": 4,
 "nbformat_minor": 1
}
