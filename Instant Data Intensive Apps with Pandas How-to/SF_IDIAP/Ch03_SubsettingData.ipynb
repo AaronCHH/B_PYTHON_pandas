{
 "cells": [
  {
   "cell_type": "markdown",
   "metadata": {},
   "source": [
    "# Ch03 - Subsetting data (Simple)"
   ]
  },
  {
   "cell_type": "code",
   "execution_count": 2,
   "metadata": {
    "collapsed": true
   },
   "outputs": [],
   "source": [
    "import pandas as pd\n",
    "import numpy as np"
   ]
  },
  {
   "cell_type": "code",
   "execution_count": 3,
   "metadata": {
    "collapsed": true
   },
   "outputs": [],
   "source": [
    "d = {'Cost': np.random.normal(100, 5, 100),\n",
    "     'Profit': np.random.normal(50, 5, 100),\n",
    "     'CatA': np.random.choice(['a', 'b', 'c'], 100),\n",
    "     'CatB': np.random.choice(['e', 'f', 'g'], 100)}"
   ]
  },
  {
   "cell_type": "code",
   "execution_count": 4,
   "metadata": {
    "collapsed": true
   },
   "outputs": [],
   "source": [
    "df = pd.DataFrame(d)"
   ]
  },
  {
   "cell_type": "code",
   "execution_count": 6,
   "metadata": {
    "collapsed": false
   },
   "outputs": [
    {
     "data": {
      "text/html": [
       "<div>\n",
       "<table border=\"1\" class=\"dataframe\">\n",
       "  <thead>\n",
       "    <tr style=\"text-align: right;\">\n",
       "      <th></th>\n",
       "      <th>CatA</th>\n",
       "      <th>CatB</th>\n",
       "      <th>Cost</th>\n",
       "      <th>Profit</th>\n",
       "    </tr>\n",
       "  </thead>\n",
       "  <tbody>\n",
       "    <tr>\n",
       "      <th>0</th>\n",
       "      <td>c</td>\n",
       "      <td>g</td>\n",
       "      <td>101.454459</td>\n",
       "      <td>52.808246</td>\n",
       "    </tr>\n",
       "    <tr>\n",
       "      <th>1</th>\n",
       "      <td>a</td>\n",
       "      <td>g</td>\n",
       "      <td>97.195107</td>\n",
       "      <td>46.421114</td>\n",
       "    </tr>\n",
       "    <tr>\n",
       "      <th>2</th>\n",
       "      <td>b</td>\n",
       "      <td>e</td>\n",
       "      <td>107.037610</td>\n",
       "      <td>49.394001</td>\n",
       "    </tr>\n",
       "    <tr>\n",
       "      <th>3</th>\n",
       "      <td>b</td>\n",
       "      <td>e</td>\n",
       "      <td>93.468270</td>\n",
       "      <td>43.925241</td>\n",
       "    </tr>\n",
       "    <tr>\n",
       "      <th>4</th>\n",
       "      <td>c</td>\n",
       "      <td>e</td>\n",
       "      <td>96.510616</td>\n",
       "      <td>53.385744</td>\n",
       "    </tr>\n",
       "  </tbody>\n",
       "</table>\n",
       "</div>"
      ],
      "text/plain": [
       "  CatA CatB        Cost     Profit\n",
       "0    c    g  101.454459  52.808246\n",
       "1    a    g   97.195107  46.421114\n",
       "2    b    e  107.037610  49.394001\n",
       "3    b    e   93.468270  43.925241\n",
       "4    c    e   96.510616  53.385744"
      ]
     },
     "execution_count": 6,
     "metadata": {},
     "output_type": "execute_result"
    }
   ],
   "source": [
    "df.head()"
   ]
  },
  {
   "cell_type": "code",
   "execution_count": 7,
   "metadata": {
    "collapsed": false
   },
   "outputs": [
    {
     "name": "stdout",
     "output_type": "stream",
     "text": [
      "   CatA CatB        Cost     Profit\n",
      "1     a    g   97.195107  46.421114\n",
      "11    a    e  102.801902  51.788275\n",
      "12    a    f   97.560271  58.403121\n",
      "13    a    e  113.309823  45.633916\n",
      "18    a    g  111.328861  52.827630\n"
     ]
    }
   ],
   "source": [
    "print (df[df.CatA == 'a'][:5])"
   ]
  },
  {
   "cell_type": "code",
   "execution_count": 9,
   "metadata": {
    "collapsed": false
   },
   "outputs": [
    {
     "data": {
      "text/html": [
       "<div>\n",
       "<table border=\"1\" class=\"dataframe\">\n",
       "  <thead>\n",
       "    <tr style=\"text-align: right;\">\n",
       "      <th></th>\n",
       "      <th>CatA</th>\n",
       "      <th>CatB</th>\n",
       "      <th>Cost</th>\n",
       "      <th>Profit</th>\n",
       "    </tr>\n",
       "  </thead>\n",
       "  <tbody>\n",
       "    <tr>\n",
       "      <th>1</th>\n",
       "      <td>a</td>\n",
       "      <td>g</td>\n",
       "      <td>97.195107</td>\n",
       "      <td>46.421114</td>\n",
       "    </tr>\n",
       "    <tr>\n",
       "      <th>11</th>\n",
       "      <td>a</td>\n",
       "      <td>e</td>\n",
       "      <td>102.801902</td>\n",
       "      <td>51.788275</td>\n",
       "    </tr>\n",
       "    <tr>\n",
       "      <th>12</th>\n",
       "      <td>a</td>\n",
       "      <td>f</td>\n",
       "      <td>97.560271</td>\n",
       "      <td>58.403121</td>\n",
       "    </tr>\n",
       "    <tr>\n",
       "      <th>13</th>\n",
       "      <td>a</td>\n",
       "      <td>e</td>\n",
       "      <td>113.309823</td>\n",
       "      <td>45.633916</td>\n",
       "    </tr>\n",
       "    <tr>\n",
       "      <th>18</th>\n",
       "      <td>a</td>\n",
       "      <td>g</td>\n",
       "      <td>111.328861</td>\n",
       "      <td>52.827630</td>\n",
       "    </tr>\n",
       "  </tbody>\n",
       "</table>\n",
       "</div>"
      ],
      "text/plain": [
       "   CatA CatB        Cost     Profit\n",
       "1     a    g   97.195107  46.421114\n",
       "11    a    e  102.801902  51.788275\n",
       "12    a    f   97.560271  58.403121\n",
       "13    a    e  113.309823  45.633916\n",
       "18    a    g  111.328861  52.827630"
      ]
     },
     "execution_count": 9,
     "metadata": {},
     "output_type": "execute_result"
    }
   ],
   "source": [
    "mask = np.logical_and(df.CatA=='a', df.CatB=='e')\n",
    "df[mask][:5]\n",
    "a_e = ['a', 'e']\n",
    "CatA_a_e = df[df.CatA.isin(a_e)]\n",
    "CatA_a_e.head()"
   ]
  },
  {
   "cell_type": "code",
   "execution_count": 10,
   "metadata": {
    "collapsed": true
   },
   "outputs": [],
   "source": [
    "only_a_e = CatA_a_e[CatA_a_e.CatB.isin(a_e)]"
   ]
  },
  {
   "cell_type": "code",
   "execution_count": 11,
   "metadata": {
    "collapsed": false
   },
   "outputs": [
    {
     "name": "stdout",
     "output_type": "stream",
     "text": [
      "   CatA CatB        Cost     Profit\n",
      "11    a    e  102.801902  51.788275\n",
      "13    a    e  113.309823  45.633916\n",
      "26    a    e   92.453381  55.524267\n",
      "28    a    e   91.936194  49.898428\n",
      "39    a    e   93.415774  52.785386\n"
     ]
    }
   ],
   "source": [
    "print (only_a_e[:5])"
   ]
  },
  {
   "cell_type": "code",
   "execution_count": null,
   "metadata": {
    "collapsed": true
   },
   "outputs": [],
   "source": []
  }
 ],
 "metadata": {
  "kernelspec": {
   "display_name": "Python [default]",
   "language": "python",
   "name": "python3"
  },
  "language_info": {
   "codemirror_mode": {
    "name": "ipython",
    "version": 3
   },
   "file_extension": ".py",
   "mimetype": "text/x-python",
   "name": "python",
   "nbconvert_exporter": "python",
   "pygments_lexer": "ipython3",
   "version": "3.5.2"
  }
 },
 "nbformat": 4,
 "nbformat_minor": 1
}
